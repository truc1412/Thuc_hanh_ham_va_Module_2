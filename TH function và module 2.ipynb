{
 "cells": [
  {
   "cell_type": "markdown",
   "id": "fc159555",
   "metadata": {},
   "source": [
    "## Bài 1 is_leap_year"
   ]
  },
  {
   "cell_type": "markdown",
   "id": "2884a9b2",
   "metadata": {},
   "source": [
    "Viết hàm is_leap_year() nhận vào 1 tham số year và kiểm tra xem year có phải là năm nhuận hay không</p>\n",
    "ví dụ : is_leap_year(2000)</p>\n",
    "Output: True"
   ]
  },
  {
   "cell_type": "code",
   "execution_count": 3,
   "id": "660b10ee",
   "metadata": {},
   "outputs": [
    {
     "data": {
      "text/plain": [
       "True"
      ]
     },
     "execution_count": 3,
     "metadata": {},
     "output_type": "execute_result"
    }
   ],
   "source": [
    "def is_leap_year(year):\n",
    "    return (((year % 4 == 0) and (year % 100 != 0)) or (year % 400 == 0))\n",
    "is_leap_year(2000)"
   ]
  },
  {
   "cell_type": "markdown",
   "id": "48d60265",
   "metadata": {},
   "source": [
    "## Bài 2: r_strip"
   ]
  },
  {
   "cell_type": "markdown",
   "id": "393e4a09",
   "metadata": {},
   "source": [
    "Viết hàm r_strip() nhận vào một tham số string và trả về string sau khi đã được cắt bỏ khoảng trắng thừa </p>\n",
    "    ví dụ : r_strip('hello     ')</p>\n",
    "    output: hello"
   ]
  },
  {
   "cell_type": "code",
   "execution_count": 55,
   "id": "202ade08",
   "metadata": {},
   "outputs": [
    {
     "data": {
      "text/plain": [
       "'hello'"
      ]
     },
     "execution_count": 55,
     "metadata": {},
     "output_type": "execute_result"
    }
   ],
   "source": [
    "def r_strip(string):\n",
    "    return string.rstrip()\n",
    "    \n",
    "r_strip('hello   ')"
   ]
  },
  {
   "cell_type": "markdown",
   "id": "01332e43",
   "metadata": {},
   "source": [
    "## Bài 3 is_prime"
   ]
  },
  {
   "cell_type": "markdown",
   "id": "b389641a",
   "metadata": {},
   "source": [
    "Viết hàm is_prime() nhận vào một tham số number và cho biết number có phải là số nguyên tố hay không </p>\n",
    "ví dụ : is_prime(3)</p>\n",
    "    Output: True"
   ]
  },
  {
   "cell_type": "code",
   "execution_count": 35,
   "id": "164c1145",
   "metadata": {},
   "outputs": [
    {
     "data": {
      "text/plain": [
       "True"
      ]
     },
     "execution_count": 35,
     "metadata": {},
     "output_type": "execute_result"
    }
   ],
   "source": [
    "def is_prime(number):\n",
    "    m= True\n",
    "    if number == 2:\n",
    "        m= True\n",
    "    elif number < 2:\n",
    "        m=False\n",
    "    elif number > 2:\n",
    "        for i in range (2,number):\n",
    "            if number%i == 0:\n",
    "                m=False\n",
    "                break\n",
    "            else:\n",
    "                m=True\n",
    "    return m\n",
    "is_prime(11)"
   ]
  },
  {
   "cell_type": "markdown",
   "id": "ce0eee1b",
   "metadata": {},
   "source": [
    "## Bài 4 find_all_primes"
   ]
  },
  {
   "cell_type": "markdown",
   "id": "93d813ef",
   "metadata": {},
   "source": [
    "Viết hàm find_primes() nhận vào 2 tham số n_start và n_end và in ra tất cả các số nguyên tố trong khoảng n_start->n_end.</p>\n",
    "##### gợi ý : có thể sử dụng hàm is_prime ở bài 3</p>\n",
    "Ví dụ : find_primes(1,10)</p>\n",
    "Output: 2 3 5 7 \n"
   ]
  },
  {
   "cell_type": "code",
   "execution_count": 37,
   "id": "75c9e190",
   "metadata": {},
   "outputs": [
    {
     "name": "stdout",
     "output_type": "stream",
     "text": [
      "2\n",
      "3\n",
      "5\n",
      "7\n",
      "11\n",
      "13\n",
      "17\n",
      "19\n"
     ]
    }
   ],
   "source": [
    "def is_prime(number):\n",
    "    m= True\n",
    "    if number == 2:\n",
    "        m= True\n",
    "    elif number < 2:\n",
    "        m=False\n",
    "    elif number > 2:\n",
    "        for i in range (2,number):\n",
    "            if number%i == 0:\n",
    "                m=False\n",
    "                break\n",
    "            else:\n",
    "                m=True\n",
    "    return m\n",
    "\n",
    "def find_primes(n_start,n_end):\n",
    "     for i in range (n_start,n_end + 1):\n",
    "            a=is_prime(i)\n",
    "            if a == True:\n",
    "                print(i)\n",
    "                \n",
    "find_primes(1,20)"
   ]
  },
  {
   "cell_type": "markdown",
   "id": "88579095",
   "metadata": {},
   "source": [
    "## Bài 5: More about Fibo"
   ]
  },
  {
   "cell_type": "markdown",
   "id": "e6ac99f0",
   "metadata": {},
   "source": [
    "Viết hàm print_fibo_sequence() nhận vào tham số n và in ra n số đầu tiên trong dãy fibonacci</p>\n",
    "ví dụ : print_fibo_sequence(7)</p>\n",
    "    output: 1 1 2 3 5 8 13"
   ]
  },
  {
   "cell_type": "code",
   "execution_count": 44,
   "id": "fcddc10a",
   "metadata": {},
   "outputs": [
    {
     "name": "stdout",
     "output_type": "stream",
     "text": [
      "1 1 2 3 5 8 13 21 34 55 "
     ]
    }
   ],
   "source": [
    "def print_fibo_sequence(n):\n",
    "    x1=1\n",
    "    x2=1\n",
    "    print(x1,end=\" \")\n",
    "    print(x2,end=\" \")\n",
    "    if (n==0) or (n == 1):\n",
    "        return index\n",
    "    else:\n",
    "        for i in range(2,n):\n",
    "            n=x1\n",
    "            x1=x2\n",
    "            x2=n + x1\n",
    "            print(x2,end=\" \")\n",
    "            \n",
    "print_fibo_sequence(10)"
   ]
  },
  {
   "cell_type": "markdown",
   "id": "17798191",
   "metadata": {},
   "source": [
    "## Bài 6 : I Love soccer"
   ]
  },
  {
   "cell_type": "markdown",
   "id": "bc74582b",
   "metadata": {},
   "source": [
    "Đội tuyển bóng đá Nam quốc gia Việt Nam là đại diện cho Việt Nam va do Liên đoàn bóng đá Việt Nam quản lý .Mặc dù đội chỉ tham gia hai kỳ Asian Cup vào năm 2007 và năm 2019 . Đội bóng đã trở thành đội đại diện đến từ Đông Nam Á có thành tích tốt nhât trong giải đấu này khi cả hai lần đều lọt tới vòng tứ kết.</p>\n",
    "Nhiệm vụ : Hãy viết hàm calc_score() nhận vào các tham số win , draw và lose để giúp Đội tuyển quốc gia Việt Nam tính điểm sau mỗi mùa đấu theo quy tắc sau:</P>\n",
    "Mỗi trận win được tính 3đ</p>\n",
    "Mối trận draw được tính 1đ</p>\n",
    "Mối trận lose được tính 0đ<p>\n",
    "* Lưu ý :</p>\n",
    "Lose là optional parameter. Nếu gọi function không có tham số lose thi coi như lose là 0</p>\n",
    "Tính điểm ra sẽ được return về chữ không in trực tiếp</P>\n",
    "ví dụ : calc_score(3,2,3)</P>\n",
    "output: 10\n"
   ]
  },
  {
   "cell_type": "code",
   "execution_count": 57,
   "id": "e7b3c44c",
   "metadata": {},
   "outputs": [
    {
     "data": {
      "text/plain": [
       "5"
      ]
     },
     "execution_count": 57,
     "metadata": {},
     "output_type": "execute_result"
    }
   ],
   "source": [
    "#def calc_score(win,draw,lose):\n",
    "def calc_score(win,draw,lose):\n",
    "    t=win*3 + draw*1 + lose*0\n",
    "    return t\n",
    "calc_score(1,2,2)\n"
   ]
  },
  {
   "cell_type": "markdown",
   "id": "8747d4de",
   "metadata": {},
   "source": [
    "## Bài 7: Thung Lũng Silicon"
   ]
  },
  {
   "cell_type": "markdown",
   "id": "c3d96498",
   "metadata": {},
   "source": [
    "Thung lũng Silicon là phần phía nam của vùng vịnh San Francisco tại phía bắc California ở Mỹ. Ban đầu tên này được dùng để chỉ một số lượng các nhà phát minh và hãng sản xuất các loại chip silicon , nhưng sau đó nó trở thành cái tên hoán dụ cho tất cả các khu thương mại công nghệ cao trong khu vực .</p>\n",
    "Thung lũng Silicon là nơi tập trung của hàng ngàn tập đoàn công nghệ nổi tiếng như Facebook, Google,Apple,Nvidia,..... và là miền đất hứa của rất nhiều lập trình viên trên thế giới </p>\n",
    "Giả sử khoảng cách tư Cảng hàng không Quốc tế Tân Sơn Nhất đên thung lũng Silicon là s km . Mỗi giờ máy bay sẽ di chuyển được khoảng cách là k km/h . Hãy tính thời gian t cần thiết để bay thẳng từ Tân sơn nhất (HCM)-> thung lũng silicon (Hoa Kì)</p>\n",
    "Nhiệm vụ : Hãy viết hàm time_to_valey() nhận vào các tham số s,k, sau đó trả về thời gian t giờ tính được . làm tròn tới 2 chữ số thập phân. </p>\n",
    "    ví dụ : time_to_valey(14448,80)</p>\n",
    "        output: 18.06"
   ]
  },
  {
   "cell_type": "code",
   "execution_count": 59,
   "id": "a8fa9c37",
   "metadata": {},
   "outputs": [
    {
     "data": {
      "text/plain": [
       "17.84"
      ]
     },
     "execution_count": 59,
     "metadata": {},
     "output_type": "execute_result"
    }
   ],
   "source": [
    "def time_to_valey(s,k):\n",
    "    \n",
    "    return round(s/k,2)\n",
    "time_to_valey(14448,810)"
   ]
  },
  {
   "cell_type": "code",
   "execution_count": null,
   "id": "45863a2b",
   "metadata": {},
   "outputs": [],
   "source": []
  }
 ],
 "metadata": {
  "kernelspec": {
   "display_name": "Python 3 (ipykernel)",
   "language": "python",
   "name": "python3"
  },
  "language_info": {
   "codemirror_mode": {
    "name": "ipython",
    "version": 3
   },
   "file_extension": ".py",
   "mimetype": "text/x-python",
   "name": "python",
   "nbconvert_exporter": "python",
   "pygments_lexer": "ipython3",
   "version": "3.9.13"
  }
 },
 "nbformat": 4,
 "nbformat_minor": 5
}
